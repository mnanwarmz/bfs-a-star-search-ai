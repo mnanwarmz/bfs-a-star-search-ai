{
 "cells": [
  {
   "attachments": {},
   "cell_type": "markdown",
   "metadata": {},
   "source": [
    "# Question 2"
   ]
  },
  {
   "attachments": {},
   "cell_type": "markdown",
   "metadata": {},
   "source": [
    "# Todo List\n",
    "\n",
    "<input type=\"checkbox\">Create mazes of dimensions a x b with c loops, where a >= 10 and b >= 10. Save the maze in CSV format. </br>\n",
    "<input type=\"checkbox\">Place the start and goal locations anywhere inside the maze. </br>\n",
    "<input type=\"checkbox\">Implement the following search strategies to reach from the start to goal locations: </br>\n",
    "<input type=\"checkbox\">A* search using Manhattan distance </br>\n",
    "<input type=\"checkbox\">Breadth-First Search where a cell is allowed to be visited at most thrice. </br>\n",
    "<input type=\"checkbox\">Compute the amount of time that the agent needs to reach the goal location using both search strategies. </br>\n",
    "<input type=\"checkbox\">Plot visuals to compare the time that the agent needs to reach the goal using A* and breadth-first search for 5 different maze sizes. </br>\n",
    "<input type=\"checkbox\">Write a summary of observations and outcomes in a text cell within your .ipynb file. The summary should be a paragraph of no more than 100 words."
   ]
  },
  {
   "cell_type": "code",
   "execution_count": 5,
   "metadata": {},
   "outputs": [
    {
     "name": "stdout",
     "output_type": "stream",
     "text": [
      "Requirement already satisfied: pyamaze in /opt/homebrew/Caskroom/miniforge/base/lib/python3.10/site-packages (1.0.1)\n",
      "Note: you may need to restart the kernel to use updated packages.\n"
     ]
    }
   ],
   "source": [
    "%pip install pyamaze"
   ]
  },
  {
   "attachments": {},
   "cell_type": "markdown",
   "metadata": {},
   "source": [
    "# Breadth-first Search"
   ]
  },
  {
   "cell_type": "code",
   "execution_count": 6,
   "metadata": {},
   "outputs": [],
   "source": [
    "from collections import deque\n",
    "import time\n",
    "\n",
    "def BFS(m, goal):\n",
    "    # Initialization\n",
    "    start = (m.rows, m.cols)\n",
    "    explored = set([start])\n",
    "    frontier = deque([start])\n",
    "\n",
    "    print(\"original frontier=\", frontier)\n",
    "    print(\"original explored=\", explored)\n",
    "\n",
    "    bfsPath = {}\n",
    "    searchPath = []\n",
    "    visitedCount = {}  # Counter to track visited cells\n",
    "\n",
    "    start_time = time.time()\n",
    "\n",
    "    # Continue loop as long as frontier is not empty\n",
    "    while frontier:\n",
    "        # Pops based on FIFO\n",
    "        currCell = frontier.popleft()\n",
    "        searchPath.append(currCell)\n",
    "\n",
    "        # If current cell == goal, then end\n",
    "        if currCell == (goal[0], goal[1]):\n",
    "            break\n",
    "\n",
    "        # Look into all 4 directions\n",
    "        for d in \"ESNW\":\n",
    "            if m.maze_map[currCell][d]:\n",
    "                if d == \"E\":\n",
    "                    childCell = (currCell[0], currCell[1] + 1)\n",
    "                elif d == \"W\":\n",
    "                    childCell = (currCell[0], currCell[1] - 1)\n",
    "                elif d == \"S\":\n",
    "                    childCell = (currCell[0] + 1, currCell[1])\n",
    "                elif d == \"N\":\n",
    "                    childCell = (currCell[0] - 1, currCell[1])\n",
    "\n",
    "                if childCell in explored:\n",
    "                    # Check if the cell has been visited less than 3 times\n",
    "                    if visitedCount.get(childCell, 0) < 3:\n",
    "                        visitedCount[childCell] = visitedCount.get(childCell, 0) + 1\n",
    "                        frontier.append(childCell)\n",
    "                    continue\n",
    "\n",
    "                explored.add(childCell)\n",
    "                frontier.append(childCell)\n",
    "\n",
    "                print(\"frontier=\", frontier)\n",
    "                print(\"explored=\", explored)\n",
    "\n",
    "                bfsPath[childCell] = currCell\n",
    "\n",
    "    end_time = time.time()\n",
    "    elapsed_time = end_time - start_time\n",
    "    print(\"=============================================\")\n",
    "    # Print out content of bfsPath\n",
    "    print(\"{\" + \"\\n\".join(\"{!r}: {!r},\".format(k, v) for k, v in bfsPath.items()) + \"}\")\n",
    "\n",
    "    fwdPath = {}\n",
    "    cell = (goal[0], goal[1])\n",
    "\n",
    "    print(\"=============================================\")\n",
    "\n",
    "    while cell != start:\n",
    "        fwdPath[bfsPath[cell]] = cell\n",
    "        cell = bfsPath[cell]\n",
    "\n",
    "    print(\"=============================================\")\n",
    "    print(\"{\" + \"\\n\".join(\"{!r}: {!r},\".format(k, v) for k, v in fwdPath.items()) + \"}\")\n",
    "\n",
    "    return searchPath,bfsPath,fwdPath, elapsed_time\n"
   ]
  },
  {
   "attachments": {},
   "cell_type": "markdown",
   "metadata": {},
   "source": [
    "# A* Search"
   ]
  },
  {
   "cell_type": "code",
   "execution_count": 7,
   "metadata": {},
   "outputs": [],
   "source": [
    "from pyamaze import maze,agent,COLOR,textLabel\n",
    "from queue import PriorityQueue\n",
    "import time\n",
    "\n",
    "def h(cell1,cell2):\n",
    "    x1,y1=cell1\n",
    "    x2,y2=cell2\n",
    "    return abs(x1-x2) + abs(y1-y2) \n",
    "\n",
    "def aStar(m,goal):\n",
    "    start=(m.rows,m.cols)\n",
    "    g_score={cell:float('inf') for cell in m.grid}\n",
    "    g_score[start]=0\n",
    "    f_score={cell:float('inf') for cell in m.grid}\n",
    "    f_score[start]=h(start,(goal[0],goal[1]))\n",
    "\n",
    "    open=PriorityQueue()\n",
    "    open.put((h(start,(goal[0],goal[1])),h(start,(goal[0],goal[1])),start))\n",
    "    aPath={}\n",
    "    \n",
    "    searchPath = []\n",
    "    start_time = time.time()\n",
    "    while not open.empty():\n",
    "        currCell = open.get()[2]\n",
    "        searchPath.append(currCell)\n",
    "        \n",
    "        if currCell == (goal[0],goal[1]):\n",
    "            break\n",
    "        for d in 'ESNW':\n",
    "            if m.maze_map[currCell][d] == True:\n",
    "                if d == 'E':\n",
    "                    childCell = (currCell[0],currCell[1]+1)\n",
    "                if d == 'S':\n",
    "                    childCell = (currCell[0]+1,currCell[1])\n",
    "                if d == 'N':\n",
    "                    childCell = (currCell[0]-1,currCell[1])\n",
    "                if d == 'W':\n",
    "                    childCell = (currCell[0],currCell[1]-1)\n",
    "                    \n",
    "                temp_g_score = g_score[currCell] + 1\n",
    "                temp_f_score = temp_g_score+h(childCell,(goal[0],goal[1]))\n",
    "                \n",
    "                if temp_f_score < f_score[childCell]:\n",
    "                    g_score[childCell] = temp_g_score\n",
    "                    f_score[childCell] = temp_f_score\n",
    "                    open.put((temp_f_score,h(childCell,(goal[0],goal[1])),childCell))\n",
    "                    aPath[childCell] = currCell    \n",
    "    fwdPath={}\n",
    "    cell=(goal[0],goal[1])\n",
    "    \n",
    "    end_time = time.time()\n",
    "    elapsed_time = end_time - start_time\n",
    "    while cell!=start:\n",
    "        fwdPath[aPath[cell]]=cell\n",
    "        cell=aPath[cell]\n",
    "    return fwdPath,aPath,searchPath,elapsed_time"
   ]
  },
  {
   "attachments": {},
   "cell_type": "markdown",
   "metadata": {},
   "source": [
    "# Main Driver Function"
   ]
  },
  {
   "attachments": {},
   "cell_type": "markdown",
   "metadata": {},
   "source": [
    "## Maze creation"
   ]
  },
  {
   "cell_type": "code",
   "execution_count": 8,
   "metadata": {},
   "outputs": [
    {
     "ename": "AttributeError",
     "evalue": "'maze' object has no attribute 'createMaze'",
     "output_type": "error",
     "traceback": [
      "\u001b[0;31m---------------------------------------------------------------------------\u001b[0m",
      "\u001b[0;31mAttributeError\u001b[0m                            Traceback (most recent call last)",
      "Cell \u001b[0;32mIn[8], line 12\u001b[0m\n\u001b[1;32m      9\u001b[0m goal \u001b[39m=\u001b[39m random\u001b[39m.\u001b[39mrandint(\u001b[39m1\u001b[39m,a \u001b[39m-\u001b[39m \u001b[39m1\u001b[39m),random\u001b[39m.\u001b[39mrandint(\u001b[39m1\u001b[39m,b \u001b[39m-\u001b[39m \u001b[39m1\u001b[39m)\n\u001b[1;32m     11\u001b[0m m \u001b[39m=\u001b[39m maze();\n\u001b[0;32m---> 12\u001b[0m \u001b[39mif\u001b[39;00m(m\u001b[39m.\u001b[39;49mcreateMaze(loadMaze\u001b[39m=\u001b[39m\u001b[39m'\u001b[39m\u001b[39mmaze1.csv\u001b[39m\u001b[39m'\u001b[39m) \u001b[39m==\u001b[39m \u001b[39mFalse\u001b[39;00m):\n\u001b[1;32m     13\u001b[0m \tm \u001b[39m=\u001b[39m maze(a,b) \u001b[39m#instantiation of maze\u001b[39;00m\n\u001b[1;32m     14\u001b[0m \tm\u001b[39m.\u001b[39mCreateMaze(goal[\u001b[39m0\u001b[39m],goal[\u001b[39m1\u001b[39m],loopPercent\u001b[39m=\u001b[39mc,saveMaze\u001b[39m=\u001b[39m\u001b[39mTrue\u001b[39;00m) \u001b[39m#saveMaze exports the maze into a csv file\u001b[39;00m\n",
      "\u001b[0;31mAttributeError\u001b[0m: 'maze' object has no attribute 'createMaze'"
     ]
    }
   ],
   "source": [
    "import random\n",
    "from pyamaze import maze, agent, COLOR\n",
    "\n",
    "a = 10 #size of maze\n",
    "b = 10 #size of maze\n",
    "c = 10 #loop percent\n",
    "\n",
    "# get random value for goal\n",
    "goal = random.randint(1,a - 1),random.randint(1,b - 1)\n",
    "\n",
    "m = maze(a,b) #instantiation of maze\n",
    "m.CreateMaze(goal[0],goal[1],loopPercent=c,saveMaze=True) #saveMaze exports the maze into a csv file\n",
    "\n",
    "# BFS Search\n",
    "bfsPath=BFS(m,goal)\n",
    "bfsSearchAgent=agent(m,footprints=True,color=COLOR.yellow,filled=True)\n",
    "bfsPathAgent=agent(m,footprints=True)\n",
    "m.tracePath({bfsSearchAgent:bfsPath[0]},showMarked=True)\n",
    "m.tracePath({bfsPathAgent:bfsPath[2]})\n",
    "\n",
    "# A* Search\n",
    "aPath=aStar(m,goal) \n",
    "aSearchAgent=agent(m,footprints=True,color=COLOR.red,filled=True)\n",
    "aPathAgent=agent(m,footprints=True)\n",
    "m.tracePath({aSearchAgent:aPath[2]},showMarked=True)\n",
    "m.tracePath({aPathAgent:aPath[0]})\n",
    "\n",
    "description = \t\"\"\"\n",
    "BFS Search : \n",
    "\tSearch Path Colour : Yellow\n",
    "\tElapsed Computation Time : \"\"\" + str(bfsPath[3]) + \"\"\" seconds\n",
    "A* Search :\n",
    "\tSearch Path Colour : Red\n",
    "\tElapsed Computation Time : \"\"\" + str(aPath[3]) + \"\"\" seconds\n",
    "\t\"\"\"\n",
    "label_position = (0, 0)  # The position of the label (top right corner)\n",
    "\n",
    "# label = textLabel(m, description, label_position)\n",
    "m.run()"
   ]
  }
 ],
 "metadata": {
  "kernelspec": {
   "display_name": "base",
   "language": "python",
   "name": "python3"
  },
  "language_info": {
   "codemirror_mode": {
    "name": "ipython",
    "version": 3
   },
   "file_extension": ".py",
   "mimetype": "text/x-python",
   "name": "python",
   "nbconvert_exporter": "python",
   "pygments_lexer": "ipython3",
   "version": "3.10.10"
  },
  "orig_nbformat": 4
 },
 "nbformat": 4,
 "nbformat_minor": 2
}
