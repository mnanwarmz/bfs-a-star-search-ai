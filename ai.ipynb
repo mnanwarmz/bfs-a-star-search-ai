{
 "cells": [
  {
   "attachments": {},
   "cell_type": "markdown",
   "metadata": {},
   "source": [
    "# Question 2"
   ]
  },
  {
   "attachments": {},
   "cell_type": "markdown",
   "metadata": {},
   "source": [
    "# Todo List\n",
    "\n",
    "<input type=\"checkbox\">Create mazes of dimensions a x b with c loops, where a >= 10 and b >= 10. Save the maze in CSV format. </br>\n",
    "<input type=\"checkbox\">Place the start and goal locations anywhere inside the maze. </br>\n",
    "<input type=\"checkbox\">Implement the following search strategies to reach from the start to goal locations: </br>\n",
    "<input type=\"checkbox\">A* search using Manhattan distance </br>\n",
    "<input type=\"checkbox\">Breadth-First Search where a cell is allowed to be visited at most thrice. </br>\n",
    "<input type=\"checkbox\">Compute the amount of time that the agent needs to reach the goal location using both search strategies. </br>\n",
    "<input type=\"checkbox\">Plot visuals to compare the time that the agent needs to reach the goal using A* and breadth-first search for 5 different maze sizes. </br>\n",
    "<input type=\"checkbox\">Write a summary of observations and outcomes in a text cell within your .ipynb file. The summary should be a paragraph of no more than 100 words."
   ]
  },
  {
   "attachments": {},
   "cell_type": "markdown",
   "metadata": {},
   "source": [
    "## Maze creation"
   ]
  },
  {
   "cell_type": "code",
   "execution_count": null,
   "metadata": {},
   "outputs": [],
   "source": [
    "%pip install pyamaze"
   ]
  },
  {
   "cell_type": "code",
   "execution_count": null,
   "metadata": {},
   "outputs": [],
   "source": [
    "from pyamaze import maze, agent #importing pymaze\n",
    "a = 10 #size of maze\n",
    "b = 10 #size of maze\n",
    "c = 10 #loop percent\n",
    "\n",
    "x,y =5,10 # this is the goal\n",
    "m = maze(a,b) #instantiation of maze\n",
    "m.CreateMaze(x,y, loopPercent = c) #saveMaze exports the maze into a csv file\n",
    "m.saveMaze(\"maze.csv\")"
   ]
  },
  {
   "attachments": {},
   "cell_type": "markdown",
   "metadata": {},
   "source": [
    "# Breadth-first Search"
   ]
  },
  {
   "cell_type": "code",
   "execution_count": null,
   "metadata": {},
   "outputs": [],
   "source": [
    "def BFS(m):\n",
    "    #initialization    \n",
    "    start=(m.rows,m.cols)\n",
    "    explored=[start]\n",
    "    frontier=[start]\n",
    "    \n",
    "    print(\"original frontier=\",frontier)\n",
    "    print(\"original explored=\",explored)\n",
    "    \n",
    "    bfsPath={}\n",
    "    searchPath=[]\n",
    "    # continue loop as long as frontier !=0\n",
    "    while len(frontier)>0:\n",
    "        # remember to pop based on FIFO\n",
    "        # your answer here\n",
    "        currCell = frontier.pop(0)\n",
    "        searchPath.append(currCell)\n",
    "       \n",
    "        \n",
    "        # if current cell == goal then end\n",
    "        if currCell ==(1,1):\n",
    "            break\n",
    "        \n",
    "        # this loop is to look into all 4 directions.\n",
    "        # your answer here...##########\n",
    "        for d in \"ESNW\":\n",
    "            if m.maze_map[currCell][d]==True:\n",
    "                if d==\"E\":\n",
    "                    childCell=(currCell[0], currCell[1]+1)\n",
    "                elif d==\"W\":\n",
    "                    childCell=(currCell[0], currCell[1]-1)\n",
    "                elif d==\"S\":\n",
    "                    childCell=(currCell[0]+1, currCell[1])\n",
    "                elif d==\"N\":\n",
    "                    childCell=(currCell[0]-1, currCell[1])\n",
    "                \n",
    "                if childCell in explored:\n",
    "                    continue\n",
    "                \n",
    "                explored.append(childCell)\n",
    "                frontier.append(childCell)\n",
    "                \n",
    "                print(\"frontier=\",frontier)\n",
    "                print(\"explored=\",explored)\n",
    "                \n",
    "                bfsPath[childCell]=currCell\n",
    "    \n",
    "    print(\"=============================================\")\n",
    "    # print out content of bfsPath    \n",
    "    print(\"{\" + \"\\n\".join(\"{!r}: {!r},\".format(k, v) for k, v in bfsPath.items()) + \"}\")\n",
    "     \n",
    "    fwdPath={}\n",
    "    cell=(1,1)\n",
    "    \n",
    "    print(\"=============================================\")\n",
    "    \n",
    "    while cell != start:  \n",
    "        fwdPath[bfsPath[cell]] = cell  \n",
    "        cell = bfsPath[cell] \n",
    "    \n",
    "    print(\"=============================================\")\n",
    "    print(\"{\" + \"\\n\".join(\"{!r}: {!r},\".format(k, v) for k, v in fwdPath.items()) + \"}\")\n",
    "    \n",
    "    return fwdPath"
   ]
  },
  {
   "attachments": {},
   "cell_type": "markdown",
   "metadata": {},
   "source": [
    "# A* Search"
   ]
  },
  {
   "cell_type": "code",
   "execution_count": 1,
   "metadata": {},
   "outputs": [],
   "source": [
    "from pyamaze import maze,agent,COLOR,textLabel\n",
    "from queue import PriorityQueue\n",
    "\n",
    "def h(cell1,cell2):\n",
    "    x1,y1=cell1\n",
    "    x2,y2=cell2\n",
    "    return abs(x1-x2) + abs(y1-y2) \n",
    "\n",
    "def aStar(m):\n",
    "    start=(m.rows,m.cols)\n",
    "    g_score={cell:float('inf') for cell in m.grid}\n",
    "    g_score[start]=0\n",
    "    f_score={cell:float('inf') for cell in m.grid}\n",
    "    f_score[start]=h(start,(1,1))\n",
    "\n",
    "    open=PriorityQueue()\n",
    "    open.put((h(start,(1,1)),h(start,(1,1)),start))\n",
    "    aPath={}\n",
    "    \n",
    "    searchPath = []\n",
    "    while not open.empty():\n",
    "        currCell = open.get()[2]\n",
    "        searchPath.append(currCell)\n",
    "        \n",
    "        if currCell == (1,1):\n",
    "            break\n",
    "        for d in 'ESNW':\n",
    "            if m.maze_map[currCell][d] == True:\n",
    "                if d == 'E':\n",
    "                    childCell = (currCell[0],currCell[1]+1)\n",
    "                if d == 'S':\n",
    "                    childCell = (currCell[0]+1,currCell[1])\n",
    "                if d == 'N':\n",
    "                    childCell = (currCell[0]-1,currCell[1])\n",
    "                if d == 'W':\n",
    "                    childCell = (currCell[0],currCell[1]-1)\n",
    "                    \n",
    "                temp_g_score = g_score[currCell] + 1\n",
    "                temp_f_score = temp_g_score+h(childCell,(1,1))\n",
    "                \n",
    "                if temp_f_score < f_score[childCell]:\n",
    "                    g_score[childCell] = temp_g_score\n",
    "                    f_score[childCell] = temp_f_score\n",
    "                    open.put((temp_f_score,h(childCell,(1,1)),childCell))\n",
    "                    aPath[childCell] = currCell    \n",
    "    fwdPath={}\n",
    "    cell=(1,1)\n",
    "    \n",
    "    while cell!=start:\n",
    "        fwdPath[aPath[cell]]=cell\n",
    "        cell=aPath[cell]\n",
    "    return fwdPath,aPath,searchPath"
   ]
  },
  {
   "attachments": {},
   "cell_type": "markdown",
   "metadata": {},
   "source": [
    "# Main Driver Function"
   ]
  },
  {
   "cell_type": "code",
   "execution_count": 2,
   "metadata": {},
   "outputs": [
    {
     "ename": "",
     "evalue": "",
     "output_type": "error",
     "traceback": [
      "\u001b[1;31mCanceled future for execute_request message before replies were done"
     ]
    },
    {
     "ename": "",
     "evalue": "",
     "output_type": "error",
     "traceback": [
      "\u001b[1;31mThe Kernel crashed while executing code in the the current cell or a previous cell. Please review the code in the cell(s) to identify a possible cause of the failure. Click <a href='https://aka.ms/vscodeJupyterKernelCrash'>here</a> for more info. View Jupyter <a href='command:jupyter.viewOutput'>log</a> for further details."
     ]
    }
   ],
   "source": [
    "from pyamaze import maze, agent, COLOR\n",
    "\n",
    "m = maze()\n",
    "m.CreateMaze(loadMaze='maze.csv')\n",
    "\n",
    "path=aStar(m) \n",
    "a=agent(m,footprints=True)\n",
    "# this is to demo the search path\n",
    "# b=agent(m,footprints=True,color=COLOR.yellow,filled=True)\n",
    "# m.tracePath({b:path[2]},showMarked=True)\n",
    "m.tracePath({a:path[0]})\n",
    "l = textLabel(m, \"A* Search\", (0,0))\n",
    "\n",
    "m.run()"
   ]
  }
 ],
 "metadata": {
  "kernelspec": {
   "display_name": "base",
   "language": "python",
   "name": "python3"
  },
  "language_info": {
   "codemirror_mode": {
    "name": "ipython",
    "version": 3
   },
   "file_extension": ".py",
   "mimetype": "text/x-python",
   "name": "python",
   "nbconvert_exporter": "python",
   "pygments_lexer": "ipython3",
   "version": "3.10.10"
  },
  "orig_nbformat": 4
 },
 "nbformat": 4,
 "nbformat_minor": 2
}
