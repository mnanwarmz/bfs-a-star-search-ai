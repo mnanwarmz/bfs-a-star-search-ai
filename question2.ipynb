{
 "cells": [
  {
   "attachments": {},
   "cell_type": "markdown",
   "metadata": {},
   "source": [
    "# Question 2"
   ]
  },
  {
   "attachments": {},
   "cell_type": "markdown",
   "metadata": {},
   "source": [
    "# Group Details\n",
    "\n",
    "<table width = 100%>\n",
    "<tr>\n",
    "<th>ID</th>\n",
    "<th>Student Name</th>\n",
    "<th>Student Email</th>\n",
    "</tr>\n",
    "<tr>\n",
    "<td>1181200713</td>\n",
    "<td>Jianxi Kita</td>\n",
    "<td>1181200713@student.mmu.edu.my</td>\n",
    "</tr>\n",
    "<tr>\n",
    "<td>1181200774</td>\n",
    "<td>Bryan Bong Zi Hao</td>\n",
    "<td>1181200774@student.mmu.edu.my</td>\n",
    "</tr>\n",
    "<tr>\n",
    "<td>1181201475</td>\n",
    "<td>Muhammad Nabil Anwar bin Md Zaid</td>\n",
    "<td>1181201475@student.mmu.edu.my</td>\n",
    "</tr>\n",
    "\n",
    "</table>\n",
    "\n",
    "*If the program is unable to boot up or takes a long time. Try restarting the kernel or checking if any other programs are consuming computing resource"
   ]
  },
  {
   "cell_type": "code",
   "execution_count": null,
   "metadata": {
    "tags": []
   },
   "outputs": [],
   "source": [
    "%pip install pyamaze"
   ]
  },
  {
   "attachments": {},
   "cell_type": "markdown",
   "metadata": {},
   "source": [
    "# 1. Breadth-first Search"
   ]
  },
  {
   "cell_type": "code",
   "execution_count": null,
   "metadata": {
    "tags": []
   },
   "outputs": [],
   "source": [
    "from collections import deque\n",
    "import time\n",
    "\n",
    "def BFS(m, goal):\n",
    "    # Initialization\n",
    "    start = (m.rows, m.cols)\n",
    "    explored = set([start]) # utilizing set for better performance compared to list \n",
    "    frontier = deque([start]) \n",
    "\n",
    "    # print(\"original frontier=\", frontier)\n",
    "    # print(\"original explored=\", explored)\n",
    "\n",
    "    bfsPath = {}\n",
    "    searchPath = []\n",
    "    visitedCount = {}  # Counter to track visited cells\n",
    "\n",
    "    start_time = time.time()\n",
    "\n",
    "    # Continue loop as long as frontier is not empty\n",
    "    while frontier:\n",
    "        # Pops based on FIFO\n",
    "        currCell = frontier.popleft()\n",
    "        searchPath.append(currCell)\n",
    "\n",
    "        # If current cell == goal, then end\n",
    "        if currCell == (goal[0], goal[1]):\n",
    "            break\n",
    "\n",
    "        # Look into all 4 directions\n",
    "        for d in \"ESNW\":\n",
    "            if m.maze_map[currCell][d]:\n",
    "                if d == \"E\":\n",
    "                    childCell = (currCell[0], currCell[1] + 1)\n",
    "                elif d == \"W\":\n",
    "                    childCell = (currCell[0], currCell[1] - 1)\n",
    "                elif d == \"S\":\n",
    "                    childCell = (currCell[0] + 1, currCell[1])\n",
    "                elif d == \"N\":\n",
    "                    childCell = (currCell[0] - 1, currCell[1])\n",
    "\n",
    "                if childCell in explored:\n",
    "                    # Check if the cell has been visited less than 3 times\n",
    "                    if visitedCount.get(childCell, 0) < 3:\n",
    "                        visitedCount[childCell] = visitedCount.get(childCell, 0) + 1\n",
    "                        frontier.append(childCell)\n",
    "                    continue\n",
    "\n",
    "                explored.add(childCell)\n",
    "                frontier.append(childCell)\n",
    "\n",
    "                # print(\"frontier=\", frontier)\n",
    "                # print(\"explored=\", explored)\n",
    "\n",
    "                bfsPath[childCell] = currCell\n",
    "\n",
    "    end_time = time.time()\n",
    "    elapsed_time = end_time - start_time    \n",
    "\n",
    "    fwdPath = {}\n",
    "    cell = (goal[0], goal[1])\n",
    "\n",
    "    while cell != start:\n",
    "        fwdPath[bfsPath[cell]] = cell\n",
    "        cell = bfsPath[cell]\n",
    "\n",
    "    return searchPath,bfsPath,fwdPath, elapsed_time\n"
   ]
  },
  {
   "attachments": {},
   "cell_type": "markdown",
   "metadata": {},
   "source": [
    "# 2. A* Search"
   ]
  },
  {
   "cell_type": "code",
   "execution_count": null,
   "metadata": {
    "tags": []
   },
   "outputs": [],
   "source": [
    "from pyamaze import maze,agent,COLOR,textLabel\n",
    "from queue import PriorityQueue\n",
    "import time\n",
    "\n",
    "def h(cell1,cell2):\n",
    "    x1,y1=cell1\n",
    "    x2,y2=cell2\n",
    "    return abs(x1-x2) + abs(y1-y2) \n",
    "\n",
    "def aStar(m,goal):\n",
    "    start=(m.rows,m.cols)\n",
    "    g_score={cell:float('inf') for cell in m.grid}\n",
    "    g_score[start]=0\n",
    "    f_score={cell:float('inf') for cell in m.grid}\n",
    "    f_score[start]=h(start,(goal[0],goal[1]))\n",
    "\n",
    "    open_set=PriorityQueue()\n",
    "    open_set.put((h(start,(goal[0],goal[1])),h(start,(goal[0],goal[1])),start))\n",
    "    aPath={}\n",
    "    \n",
    "    searchPath = []\n",
    "    start_time = time.time()\n",
    "    while not open_set.empty():\n",
    "        currCell = open_set.get()[2]\n",
    "        searchPath.append(currCell)\n",
    "        \n",
    "        if currCell == (goal[0],goal[1]):\n",
    "            break\n",
    "        for d in 'ESNW':\n",
    "            if m.maze_map[currCell][d] == True:\n",
    "                if d == 'E':\n",
    "                    childCell = (currCell[0],currCell[1]+1)\n",
    "                if d == 'S':\n",
    "                    childCell = (currCell[0]+1,currCell[1])\n",
    "                if d == 'N':\n",
    "                    childCell = (currCell[0]-1,currCell[1])\n",
    "                if d == 'W':\n",
    "                    childCell = (currCell[0],currCell[1]-1)\n",
    "                    \n",
    "                temp_g_score = g_score[currCell] + 1\n",
    "                temp_f_score = temp_g_score+h(childCell,(goal[0],goal[1]))\n",
    "                \n",
    "                if temp_f_score < f_score[childCell]:\n",
    "                    g_score[childCell] = temp_g_score\n",
    "                    f_score[childCell] = temp_f_score\n",
    "                    open_set.put((temp_f_score,h(childCell,(goal[0],goal[1])),childCell))\n",
    "                    aPath[childCell] = currCell    \n",
    "    fwdPath={}\n",
    "    cell=(goal[0],goal[1])\n",
    "    \n",
    "    end_time = time.time()\n",
    "    elapsed_time = end_time - start_time\n",
    "\n",
    "    while cell!=start:\n",
    "        fwdPath[aPath[cell]]=cell\n",
    "        cell=aPath[cell]    \n",
    "    \n",
    "    return fwdPath,aPath,searchPath,elapsed_time"
   ]
  },
  {
   "attachments": {},
   "cell_type": "markdown",
   "metadata": {},
   "source": [
    "# 3. Outputting the Path to a text file"
   ]
  },
  {
   "cell_type": "code",
   "execution_count": null,
   "metadata": {},
   "outputs": [],
   "source": [
    "\n",
    "import os\n",
    "def FileExists(file_path):\n",
    "\tif os.path.exists(file_path):\n",
    "\t\treturn True\n",
    "\telse:\n",
    "\t\treturn False\n",
    "\n",
    "def exportOutput(filename,searchName,pathName,elapsed_time = 0,color = \"\",envText = \"\"):\n",
    "    text = \"\\n\" + searchName + \" Search Path\\n\"\n",
    "    text += \"Search Path Colour: \" + color + \"\\n\"\n",
    "    text += \"Elapsed Time: \" + str(elapsed_time) + \"\\n\"\n",
    "    text +=  envText + \"\\n\"\n",
    "    text += \"\\n=============================================\\n\"\n",
    "    text += \"{\" + \"\\n\".join(\"{!r}: {!r},\".format(k, v) for k, v in pathName.items()) + \"}\"\n",
    "    i = 1\n",
    "    # get directory from start of path to last slash\n",
    "    directory = filename[:filename.rfind('/')]\n",
    "    while (FileExists(filename)) :\n",
    "        filename = filename[:-4]\n",
    "        filename = directory + \"/\"\n",
    "        filename += searchName +\" Output\" + str(i) +  \".txt\"\n",
    "        i+= 1\n",
    "    with open(filename,'w') as file:\n",
    "        file.write(text)"
   ]
  },
  {
   "attachments": {},
   "cell_type": "markdown",
   "metadata": {},
   "source": [
    "# Main Driver Functions"
   ]
  },
  {
   "attachments": {},
   "cell_type": "markdown",
   "metadata": {},
   "source": [
    "## Maze creation"
   ]
  },
  {
   "cell_type": "code",
   "execution_count": null,
   "metadata": {
    "tags": []
   },
   "outputs": [],
   "source": [
    "import random\n",
    "from pyamaze import maze, agent, COLOR\n",
    "\n",
    "a = 10 #size of maze\n",
    "b = 10 #size of maze\n",
    "c = 5\t #loop percent\n",
    "\n",
    "# get random value for goal \n",
    "goal = random.randint(1,a - 1),random.randint(1,b - 1)\n",
    "# goal = a,b #uncomment if want to set to specific goal and comment the line above\n",
    "envText = \"Maze Size: \" + str(a) + \"x\" + str(b) + \"\\nLoop Percent: \" + str(c) + \"%\" + \"\\nGoal: \" + str(goal) \n",
    "\n",
    "m = maze(a,b) #instantiation of maze\n",
    "m.CreateMaze(goal[0],goal[1],loopPercent=c,saveMaze=True) #saveMaze exports the maze into a csv file\n",
    "\n",
    "# BFS Search\n",
    "bfsPath=BFS(m,goal)\n",
    "bfsSearchAgent=agent(m,footprints=True,color=COLOR.yellow,filled=True)\n",
    "bfsPathAgent=agent(m,footprints=True)\n",
    "m.tracePath({bfsSearchAgent:bfsPath[0]},showMarked=True)\n",
    "m.tracePath({bfsPathAgent:bfsPath[2]})\n",
    "exportOutput(\"output/bfs/BFS Output.txt\",\"BFS\",bfsPath[1],bfsPath[3],\"Yellow\", envText)\n",
    "# A* Search\n",
    "aPath=aStar(m,goal) \n",
    "aSearchAgent=agent(m,footprints=True,color=COLOR.red,filled=True)\n",
    "aPathAgent=agent(m,footprints=True)\n",
    "m.tracePath({aSearchAgent:aPath[2]},showMarked=True)\n",
    "m.tracePath({aPathAgent:aPath[0]})\n",
    "exportOutput(\"output/astar/AStar Search Output.txt\",\"AStar Search\",aPath[1],aPath[3],\"Red\", envText)\n",
    "\n",
    "m.run()"
   ]
  },
  {
   "attachments": {},
   "cell_type": "markdown",
   "metadata": {},
   "source": [
    "# Loading an existing maze"
   ]
  },
  {
   "cell_type": "code",
   "execution_count": null,
   "metadata": {},
   "outputs": [],
   "source": [
    "from pyamaze import maze, agent, COLOR\n",
    "\n",
    "mazePath = 'maze10x10.csv'\n",
    "# mazePath = 'maze15x15.csv'\n",
    "# mazePath = 'maze20x20.csv'\n",
    "# mazePath = 'maze25x25.csv'\n",
    "# mazePath = 'maze30x30.csv'\n",
    "# mazePath = 'maze35x35.csv'\n",
    "\n",
    "# get maze size from file name\n",
    "a = int(mazePath[4:6])\n",
    "b = int(mazePath[7:9])\n",
    "\n",
    "m = maze() #instantiation of maze\n",
    "goal = 5,5 #modify this to set custom goal\n",
    "envText = \"Maze Size: \" + str(a) + \"x\" + str(b)\n",
    "\n",
    "m.CreateMaze(goal[0],goal[1],loadMaze=mazePath) #saveMaze exports the maze into a csv file\n",
    "\n",
    "# BFS Search\n",
    "bfsPath=BFS(m,goal)\n",
    "bfsSearchAgent=agent(m,footprints=True,color=COLOR.yellow,filled=True)\n",
    "bfsPathAgent=agent(m,footprints=True)\n",
    "m.tracePath({bfsSearchAgent:bfsPath[0]},showMarked=True)\n",
    "m.tracePath({bfsPathAgent:bfsPath[2]}) \n",
    "exportOutput(\"output/bfs/BFS Output.txt\",\"BFS\",bfsPath[1],bfsPath[3],\"Yellow\", envText)\n",
    "\n",
    "# A* Search\n",
    "aPath=aStar(m,goal) \n",
    "aSearchAgent=agent(m,footprints=True,color=COLOR.red,filled=True)\n",
    "aPathAgent=agent(m,footprints=True)\n",
    "m.tracePath({aSearchAgent:aPath[2]},showMarked=True)\n",
    "m.tracePath({aPathAgent:aPath[0]})\n",
    "exportOutput(\"output/astar/AStar Search Output.txt\",\"AStar Search\",aPath[1],aPath[3],\"Red\", envText)\n",
    "\n",
    "m.run()"
   ]
  },
  {
   "attachments": {},
   "cell_type": "markdown",
   "metadata": {},
   "source": [
    "# Summary\n",
    "\n",
    "After evaluating the outputs from the five different mazes, it can be concluded that A* search outperformed BFS (Breadth-First Search) in terms of speed. A* search utilizes heuristic information and efficiently explored the maze and found the optimal path. On the other hand, BFS systematically explored all neighboring nodes, resulting in longer search times compared to A*. Despite the varying maze sizes and loop percentages, A* consistently exhibited faster search times, showcasing its ability to prioritize more promising paths. In a nutshell, A* search proves to be a more time-efficient algorithm for maze navigation compared to BFS in these scenarios."
   ]
  }
 ],
 "metadata": {
  "kernelspec": {
   "display_name": "Python 3 (ipykernel)",
   "language": "python",
   "name": "python3"
  },
  "language_info": {
   "codemirror_mode": {
    "name": "ipython",
    "version": 3
   },
   "file_extension": ".py",
   "mimetype": "text/x-python",
   "name": "python",
   "nbconvert_exporter": "python",
   "pygments_lexer": "ipython3",
   "version": "3.10.10"
  }
 },
 "nbformat": 4,
 "nbformat_minor": 4
}
